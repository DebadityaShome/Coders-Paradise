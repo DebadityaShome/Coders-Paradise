{
 "cells": [
  {
   "cell_type": "markdown",
   "metadata": {},
   "source": [
    "### Created by : Debaditya Shome\n",
    "\n",
    "# ----------------------Enough Javascript to know before React JS------------------------\n"
   ]
  },
  {
   "cell_type": "markdown",
   "metadata": {},
   "source": [
    "## Javascript unique features:\n",
    "\n",
    "* Single threaded (No Concurrency)\n",
    "* Practice should be to use camelCase\n",
    "* Use deep equals (===) instead of double equals for comparison of equality\n",
    "\n",
    "## Variable Declarations in JavaScript:\n",
    "\n",
    "This lesson teaches how variables are declared in JavaScript and what's the difference between var, let and const keywords.\n",
    "\n",
    "Earlier before 2015, the only keyword available to declare variables was the var keyword. With JavaScript ES6 introduced, the two new keywords that came into existence are const and let. Let’s see how each of these keywords differ from one another and what’s the best time to use them.\n",
    "\n",
    "The different variable declarations with var, let and const can be confusing for newcomers to React even though they are not React specific. Maybe it is because JavaScript ES6 was introduced when React became popular. In general, I try to introduce let and const very early in my workshops. \n",
    "It simply starts with exchanging var with const in a React component:"
   ]
  },
  {
   "cell_type": "code",
   "execution_count": null,
   "metadata": {},
   "outputs": [],
   "source": [
    "import React from 'react';\n",
    "\n",
    "export default class App extends React.Component {\n",
    "  render() {\n",
    "    const users = [\n",
    "      { name: 'Robin' },\n",
    "      { name: 'Markus' },\n",
    "    ];\n",
    "\n",
    "    return (\n",
    "      <ul>\n",
    "        {users.map(user => <li>{user.name}</li>)}\n",
    "      </ul>\n",
    "    );\n",
    "  }\n",
    "}"
   ]
  },
  {
   "cell_type": "markdown",
   "metadata": {},
   "source": [
    "Also, JavaScript didn’t have a dedicated keyword to declare constants only which is why const was introduced. The variables assigned using const are read-only which means that once they are initialized using const, they cannot be reassigned.\n",
    "\n"
   ]
  },
  {
   "cell_type": "markdown",
   "metadata": {},
   "source": [
    "### Scope of var, let and const:\n",
    "\n",
    "The primary reason to introduce two more keywords in the new JS version was to allow programmers to decide scope options for their defined variables. The scopes of all these keywords are mentioned below:\n",
    "\n",
    "* **var:**  Function in which the variable is declared\n",
    "* **let:**  Block in which the variable is declared\n",
    "* **const:**  Block in which the variable is declared\n",
    "\n",
    "## Rules of Thumb:\n",
    "\n",
    "1. **Don’t use var, because let and const is more specific**\n",
    "2. **Default to const, because it cannot be re-assigned or re-declared**\n",
    "3. **Use let when you want to re-assign the variable in future**\n",
    "4. **Always prefer using let over var and const over let**\n"
   ]
  },
  {
   "cell_type": "markdown",
   "metadata": {},
   "source": [
    "## When to use what?\n",
    "\n",
    "While **let** is usually used in a for loop for incrementing the iterator, **const** is normally used for keeping JavaScript variables unchanged. Even though it is possible to change the inner properties of objects and arrays when using **const**, the variable declaration shows the intent of keeping the variable unchanged."
   ]
  },
  {
   "cell_type": "markdown",
   "metadata": {},
   "source": [
    "## Operators\n",
    "\n",
    "JavaScript operators can be categorized into two main categories i.e., Unary and Binary operators. Unary takes only one operand whereas binary takes two.\n",
    "\n",
    "### 1. Binary Operators:\n",
    "Binary operators can further be divided into following types:"
   ]
  },
  {
   "cell_type": "code",
   "execution_count": 3,
   "metadata": {},
   "outputs": [
    {
     "name": "stdout",
     "output_type": "stream",
     "text": [
      "****Arithmetic Operators****\n",
      "\n",
      "2 + 3 = 5\n",
      "2 - 3 = -1\n",
      "2 + 3 = 6\n",
      "6 + 3 = 2\n",
      "7 + 3 = 2.3333333333333335\n"
     ]
    }
   ],
   "source": [
    "//Arithmetic Operators\n",
    "console.log(\"****Arithmetic Operators****\\n\")\n",
    "console.log(\"2 + 3 = \" + (2 + 3))\n",
    "console.log(\"2 - 3 = \" + (2 - 3))\n",
    "console.log(\"2 + 3 = \" + (2 * 3))\n",
    "console.log(\"6 + 3 = \" + (6 / 3))\n",
    "console.log(\"7 + 3 = \" + (7 / 3))"
   ]
  },
  {
   "cell_type": "code",
   "execution_count": 4,
   "metadata": {},
   "outputs": [
    {
     "name": "stdout",
     "output_type": "stream",
     "text": [
      "\n",
      "****Assignment Operators****\n",
      "\n",
      "x = 3\n",
      "x += 1 gives x = 4\n",
      "x -= 1 gives x = 3\n",
      "x *= 3 gives x = 9\n"
     ]
    }
   ],
   "source": [
    "//Assignment Operators\n",
    "console.log(\"\\n****Assignment Operators****\\n\")\n",
    "var x = 3;\n",
    "console.log(\"x = \" + x)\n",
    "console.log(\"x += 1 gives x = \" + (x+=1)) // adds 1\n",
    "console.log(\"x -= 1 gives x = \" + (x-=1)) // subtracts 1\n",
    "console.log(\"x *= 3 gives x = \" + (x*=3)) // multiplies 3 with x"
   ]
  },
  {
   "cell_type": "code",
   "execution_count": 5,
   "metadata": {},
   "outputs": [
    {
     "name": "stdout",
     "output_type": "stream",
     "text": [
      "\n",
      "****Logical Operators****\n",
      "\n",
      "1 OR 1 = 1\n",
      "1 OR 0 = 1\n",
      "0 OR 0 = 0\n",
      "1 AND 1 = 1\n",
      "1 AND 0 = 0\n",
      "0 AND 0 = 0\n",
      "false\n",
      "false\n",
      "true\n",
      "true\n"
     ]
    }
   ],
   "source": [
    "//Logical Operators\n",
    "console.log(\"\\n****Logical Operators****\\n\")\n",
    "console.log(\"1 OR 1 = \" + (1 || 1)) // 1 OR 1\n",
    "console.log(\"1 OR 0 = \" + (1 || 0)) // 1 OR 0\n",
    "console.log(\"0 OR 0 = \" + (0 || 0)) // 0 OR 0\n",
    "console.log(\"1 AND 1 = \" + (1 && 1)) // 1 AND 1\n",
    "console.log(\"1 AND 0 = \" + (1 && 0)) // 1 AND 0\n",
    "console.log(\"0 AND 0 = \" + (0 && 0)) // 0 AND 0\n",
    "console.log(!true)  // NOT TRUE\n",
    "console.log(!1)     // NOT TRUE\n",
    "console.log(!false) // NOT FALSE\n",
    "console.log(!0)     // NOT FALSE"
   ]
  },
  {
   "cell_type": "code",
   "execution_count": 6,
   "metadata": {},
   "outputs": [
    {
     "name": "stdout",
     "output_type": "stream",
     "text": [
      "\n",
      "****Comma Operator****\n",
      "The value for expression with comma operator is: 5\n"
     ]
    }
   ],
   "source": [
    "//Comma operator\n",
    "//The Comma operator evaluates each operand from left to right and returns the value of right most operand.\n",
    "console.log(\"\\n****Comma Operator****\")\n",
    "var a = 4;\n",
    "a = (a++, a);\n",
    "console.log(\"The value for expression with comma operator is: \" + a) //returns 5"
   ]
  },
  {
   "cell_type": "code",
   "execution_count": 7,
   "metadata": {},
   "outputs": [
    {
     "name": "stdout",
     "output_type": "stream",
     "text": [
      "\n",
      "****Comparison Operators****\n",
      "false\n",
      "true\n",
      "true\n",
      "false\n"
     ]
    }
   ],
   "source": [
    "//Comparison operators\n",
    "console.log(\"\\n****Comparison Operators****\")\n",
    "console.log(1 > 2) //false\n",
    "console.log(1 < 2) //true\n",
    "console.log(1 == 1) //true\n",
    "console.log(1 != 1) //false"
   ]
  },
  {
   "cell_type": "code",
   "execution_count": 8,
   "metadata": {},
   "outputs": [
    {
     "name": "stdout",
     "output_type": "stream",
     "text": [
      "\n",
      "****Bitwise Operators****\n",
      "Bitwise AND of 5 and 1: 1\n",
      "Bitwise OR of 5 and 1: 5\n",
      "Bitwise XOR of 5 and 1: 4\n"
     ]
    }
   ],
   "source": [
    "//Bitwise Operator\n",
    "console.log(\"\\n****Bitwise Operators****\")\n",
    "console.log(\"Bitwise AND of 5 and 1: \" + (5 & 1)) //returns 1\n",
    "console.log(\"Bitwise OR of 5 and 1: \" + (5 | 1)) // returns 5 \n",
    "console.log(\"Bitwise XOR of 5 and 1: \" + (5 ^ 1)) //returns 4"
   ]
  },
  {
   "cell_type": "code",
   "execution_count": 9,
   "metadata": {},
   "outputs": [
    {
     "name": "stdout",
     "output_type": "stream",
     "text": [
      "\n",
      "****String Operator****\n",
      "Concatenation (+) operator in action\n"
     ]
    }
   ],
   "source": [
    "//String Operator\n",
    "console.log(\"\\n****String Operator****\")\n",
    "console.log(\"Concatenation\" + \" (+)\" + \" operator in action\")"
   ]
  },
  {
   "cell_type": "code",
   "execution_count": 10,
   "metadata": {},
   "outputs": [
    {
     "name": "stdout",
     "output_type": "stream",
     "text": [
      "\n",
      " ****Conditional Operator****\n",
      "Invalid\n"
     ]
    }
   ],
   "source": [
    "//Conditional Operator\n",
    "console.log(\"\\n ****Conditional Operator****\")\n",
    "var num_of_months = 13\n",
    "var ans = (num_of_months > 12) ? \"Invalid\" : \"Valid\"\n",
    "console.log(ans) //Returns Invalid"
   ]
  },
  {
   "cell_type": "markdown",
   "metadata": {},
   "source": [
    "### 💡 Did you know?\n",
    "\n",
    "A comma operator (,) is used when you want to evaluate an expression from left to right."
   ]
  },
  {
   "cell_type": "markdown",
   "metadata": {},
   "source": [
    "### 2. Unary Operators \n",
    "As mentioned earlier, unary operators take only one operand in order to perform a specific operation. Some of the commonly used unary operators in JavaScript are:\n",
    "\n",
    "**typeof:** Returns the type of the given operand\n",
    "\n",
    "**delete:** Deletes an object, object’s attribute or an instance in an array\n",
    "\n",
    "**void:** Specifies that an expression does not return anything"
   ]
  },
  {
   "cell_type": "markdown",
   "metadata": {},
   "source": [
    "### 💡 Did you know?\n",
    "\n",
    "The operator === is commonly referred as Deep Equals in JavaScript. The only difference between double equals == and deep equals is that the former does not perform type comparison but in fact, converts the type of one of the operands to make their types same. Deep equals, on the other hand, returns false if both types are not the same."
   ]
  },
  {
   "cell_type": "code",
   "execution_count": 11,
   "metadata": {},
   "outputs": [
    {
     "name": "stdout",
     "output_type": "stream",
     "text": [
      "true\n",
      "true\n",
      "true\n",
      "false\n"
     ]
    }
   ],
   "source": [
    "console.log(1 == 1); //returns true\n",
    "console.log('1' == 1); //returns true\n",
    "console.log(1 === 1); //returns true\n",
    "console.log('1' === 1); //returns false"
   ]
  },
  {
   "cell_type": "markdown",
   "metadata": {},
   "source": [
    "## Expressions:\n",
    "Anything that evaluates to a value is called an expression. Some of the basic expressions and keywords used in JavaScript are mentioned below:\n",
    "\n",
    "* **this:** points to the current object\n",
    "* **super:** calls methods on an object’s parent, for example, call parent’s constructor\n",
    "* **function:** used to define a function\n",
    "* **function*:** used to define a generator function\n",
    "* **async function:** used to define an async function"
   ]
  },
  {
   "cell_type": "markdown",
   "metadata": {},
   "source": [
    "## Ternary Operator in React: \n",
    "\n",
    "This lesson teaches the use of Ternary Operator in React for conditional rendering of JSX and explains it with the help of examples.\n",
    "\n",
    "A ternary operator — also called Conditional Operator — is the only JavaScript operator which takes three operands and returns a value based on some condition. It’s an alternative for if statement. This could be used for multiple purposes and comes in very handy in React too!\n",
    "\n",
    "Displaying JavaScript strings, objects, and arrays in React is not enough. What about an if-else statement for enabling conditional rendering? You cannot use an if-else statement directly in JSX, but you can return early from the rendering function. Returning null is valid in React when displaying nothing. Just like we did in the example given below."
   ]
  },
  {
   "cell_type": "markdown",
   "metadata": {},
   "source": [
    "## 💡 Did you know?\n",
    "Conditional rendering in React uses JavaScript operators like if or the conditional operator to create elements representing the current state, and let React show or hide a certain UI element based on a condition."
   ]
  },
  {
   "cell_type": "markdown",
   "metadata": {},
   "source": [
    "If you want to use an if-else statement within the returned JSX, you can do it by using a JavaScripts ternary operator:\n",
    "\n",
    "\n",
    "\n",
    "\n",
    "\n"
   ]
  },
  {
   "cell_type": "code",
   "execution_count": null,
   "metadata": {},
   "outputs": [],
   "source": [
    "import React from 'react';\n",
    "\n",
    "export default class App extends React.Component {\n",
    "  render() {\n",
    "       const users = [\n",
    "      { name: 'Robin' },\n",
    "      { name: 'Markus' },\n",
    "    ];\n",
    "    const showUsers = true;\n",
    "    return (\n",
    "      <div>\n",
    "        {\n",
    "          showUsers ? (\n",
    "            <ul>\n",
    "              {users.map(user => <li>{user.name}</li>)}\n",
    "            </ul>\n",
    "          ) : (\n",
    "            null\n",
    "          )\n",
    "        }\n",
    "      </div>\n",
    "    );\n",
    "  }\n",
    "}"
   ]
  },
  {
   "cell_type": "markdown",
   "metadata": {},
   "source": [
    "Another way of doing it, if you only return one side of the conditional rendering anyway, is using the && operator:"
   ]
  },
  {
   "cell_type": "code",
   "execution_count": null,
   "metadata": {},
   "outputs": [],
   "source": [
    "import React from 'react';\n",
    "\n",
    "export default class App extends React.Component {\n",
    "  render() {\n",
    "    const users = [\n",
    "      { name: 'Robin' },\n",
    "      { name: 'Markus' },\n",
    "    ];\n",
    "    const showUsers = true;\n",
    "    return (\n",
    "      <div>\n",
    "        {\n",
    "          showUsers && (\n",
    "            <ul>\n",
    "              {users.map(user => <li>{user.name}</li>)}\n",
    "            </ul>\n",
    "          )\n",
    "        }\n",
    "      </div>\n",
    "    );\n",
    "  }\n",
    "}"
   ]
  },
  {
   "cell_type": "markdown",
   "metadata": {},
   "source": [
    "## Conditional Rendering in React:\n",
    "\n",
    "Conditional rendering in React isn't difficult. In JSX - the syntax extension used for React - you can use plain JavaScript which includes if else statements, ternary operators, switch case statements, and much more. In a conditional render, a React component decides based on one or several conditions which DOM elements it will return. For instance, based on some logic it can either return a list of items or a text that says \"Sorry, the list is empty\". When a component has a conditional rendering, the appearance of the rendered component differs based on the condition. The article aims to be an exhaustive list of options for conditional renderings in React and best practices for these patterns."
   ]
  },
  {
   "cell_type": "markdown",
   "metadata": {},
   "source": [
    "**Read more about Conditional Rendering here :**\n",
    "https://www.robinwieruch.de/conditional-rendering-react\n"
   ]
  },
  {
   "cell_type": "markdown",
   "metadata": {},
   "source": [
    "## Object Destructuring & Spread Operators:\n",
    "This lesson teaches the concepts of Object Destructuring and Spread Operators and how we can use them in React."
   ]
  },
  {
   "cell_type": "markdown",
   "metadata": {},
   "source": [
    "#### What is Destructuring?\n",
    "Another language feature introduced in JavaScript is called Object Destructuring. It’s often the case that you have to access plenty of properties from your state or props in your component. Rather than assigning them to a variable one by one, you can use destructuring assignment in JavaScript. See the following example for better understanding:\n",
    "\n",
    "Assume there is an object named student and you want to extract its properties, one way to do this is:"
   ]
  },
  {
   "cell_type": "code",
   "execution_count": 12,
   "metadata": {},
   "outputs": [
    {
     "name": "stdout",
     "output_type": "stream",
     "text": [
      "21\n",
      "Jhon\n",
      "3.0\n"
     ]
    }
   ],
   "source": [
    "const student = {\n",
    "  ID: '21',\n",
    "  name: 'Jhon',\n",
    "  GPA: '3.0',\n",
    "};\n",
    "\n",
    "const id = student.ID;\n",
    "const name = student.name;\n",
    "const GPA = student.GPA;\n",
    "\n",
    "console.log(id);\n",
    "console.log(name);\n",
    "console.log(GPA);"
   ]
  },
  {
   "cell_type": "markdown",
   "metadata": {},
   "source": [
    "But as you can see, there’s a lot of repetitive code in this example. So, to make things simpler, we can rewrite this code as:"
   ]
  },
  {
   "cell_type": "code",
   "execution_count": null,
   "metadata": {},
   "outputs": [],
   "source": [
    "const student = {\n",
    "  ID: '21',\n",
    "  name: 'Jhon',\n",
    "  GPA: '3.0',\n",
    "};\n",
    "\n",
    "const {ID, name, GPA} = student;"
   ]
  },
  {
   "cell_type": "markdown",
   "metadata": {},
   "source": [
    "**Another example of destructuring:**"
   ]
  },
  {
   "cell_type": "code",
   "execution_count": null,
   "metadata": {},
   "outputs": [],
   "source": [
    "// no destructuring\n",
    "const users = this.state.users;\n",
    "const counter = this.state.counter;\n",
    "\n",
    "// destructuring\n",
    "const { users, counter } = this.state;"
   ]
  },
  {
   "cell_type": "markdown",
   "metadata": {},
   "source": [
    "That’s especially beneficial for functional stateless components because they always receive the props object in their function signature. Often you will not use the props but its content, so you can destructure the content already in the function signature."
   ]
  },
  {
   "cell_type": "code",
   "execution_count": null,
   "metadata": {},
   "outputs": [],
   "source": [
    "// no destructuring\n",
    "function Greeting(props) {\n",
    "  return <h1>{props.greeting}</h1>;\n",
    "}\n",
    "\n",
    "// destructuring\n",
    "function Greeting({ greeting }) {\n",
    "  return <h1>{greeting}</h1>;\n",
    "}"
   ]
  },
  {
   "cell_type": "markdown",
   "metadata": {},
   "source": [
    "The destructuring works for JavaScript arrays too. Another great feature is the rest destructuring. It is often used for splitting out a part of an object, but keeping the remaining properties in another object."
   ]
  },
  {
   "cell_type": "code",
   "execution_count": null,
   "metadata": {},
   "outputs": [],
   "source": [
    "// rest destructuring\n",
    "const { users, ...rest } = this.state;"
   ]
  },
  {
   "cell_type": "markdown",
   "metadata": {},
   "source": [
    "Afterward, the users can be used to be rendered, for instance in a React component, whereas the remaining state is used somewhere else. That’s where the JavaScript spread operator comes into play to forward the rest object to the next component. In the next section, you will see this operator in action."
   ]
  },
  {
   "cell_type": "markdown",
   "metadata": {},
   "source": [
    "#### Spread Operator:\n",
    "Another JavaScript feature that we use quite a lot in React is the Spread Operator. Spread Operator literally spreads the contents of an array into its elements which makes operations like concatenation etc. easier. Let’s say we want to concatenate two arrays, we either do this by using concat function, like this:"
   ]
  },
  {
   "cell_type": "code",
   "execution_count": 14,
   "metadata": {},
   "outputs": [
    {
     "name": "stdout",
     "output_type": "stream",
     "text": [
      "c: 1,2,3,4,5,6\n"
     ]
    }
   ],
   "source": [
    "a = [1,2,3];\n",
    "b = [4,5,6];\n",
    "c = a.concat(b);\n",
    "console.log(\"c: \" + c);"
   ]
  },
  {
   "cell_type": "markdown",
   "metadata": {},
   "source": [
    "**Or we can do the same thing using Spread Operator:**"
   ]
  },
  {
   "cell_type": "code",
   "execution_count": 15,
   "metadata": {},
   "outputs": [
    {
     "name": "stdout",
     "output_type": "stream",
     "text": [
      "c: 1,2,3,4,5,6\n"
     ]
    }
   ],
   "source": [
    "a = [1,2,3];\n",
    "b = [4,5,6];\n",
    "c = [...a, ...b]; //spread operator\n",
    "console.log(\"c: \" + c);"
   ]
  },
  {
   "cell_type": "markdown",
   "metadata": {},
   "source": [
    "### Why is Spread Operator so handy in React?\n",
    "\n",
    "* You can easily add some elements in the middle of the two arrays: [...a, 'something', ...b];\n",
    "* It’s simpler to use and also gives you a visual idea of what your array looks like.\n",
    "* You can clone arrays using this operator: clone = [...a];\n",
    "* In React, you can combine two objects using Spread Operator and add extra properties to that object too. Let’s say we have two objects a and b, we can combine these two objects and create a new one with all the properties present in both objects. See the example below:"
   ]
  },
  {
   "cell_type": "code",
   "execution_count": null,
   "metadata": {},
   "outputs": [],
   "source": [
    "const person = { name: \"Jhon\"};\n",
    "const student = { ID: \"21\", GPA: \"3.0\"};\n",
    "\n",
    "const new_object = { ...person, ...student, semester: '3'};\n",
    "console.log(new_object);"
   ]
  },
  {
   "cell_type": "markdown",
   "metadata": {},
   "source": [
    "## Function Declaration in JavaScript :\n",
    "\n",
    "A function is a piece of code which is defined only once but can be called a countless number of times. A JavaScript function comprises several components which affect its behavior. A typical JavaScript function has the following components:\n",
    "\n",
    "* **the function keyword**\n",
    "* **the name**\n",
    "* **the parameter(s)**\n",
    "* **the returned value**\n",
    "* **the return type**\n",
    "* **the context this**"
   ]
  },
  {
   "cell_type": "markdown",
   "metadata": {},
   "source": [
    "### 💡 Did you know?\n",
    "In JavaScript, functions are actually objects. Just like any typical object, they have attributes and methods too. The only thing that differentiates them from objects is that they can be called"
   ]
  },
  {
   "cell_type": "markdown",
   "metadata": {},
   "source": [
    "### What’s the difference between Named and Anonymous function?\n",
    "The only difference is that Anonymous Functions are declared at runtime, means they are defined and called at the same time. The reason why they are called Anonymous is that they are not given a proper name before compilation. A typical way to declare a function in JavaScript is:"
   ]
  },
  {
   "cell_type": "code",
   "execution_count": 17,
   "metadata": {},
   "outputs": [
    {
     "name": "stdout",
     "output_type": "stream",
     "text": [
      "Hello! I'm a named function!\n"
     ]
    }
   ],
   "source": [
    "function myFunction()\n",
    "{\n",
    "  console.log(\"Hello! I'm a named function!\");\n",
    "}\n",
    "\n",
    "myFunction();"
   ]
  },
  {
   "cell_type": "code",
   "execution_count": 18,
   "metadata": {},
   "outputs": [
    {
     "name": "stdout",
     "output_type": "stream",
     "text": [
      "Hello! I'm an Anonymous function\n"
     ]
    }
   ],
   "source": [
    "var myFunction = function()\n",
    "{\n",
    "  console.log(\"Hello! I'm an Anonymous function\");\n",
    "}\n",
    "\n",
    "myFunction();"
   ]
  },
  {
   "cell_type": "markdown",
   "metadata": {},
   "source": [
    "## Ways to Declare JavaScript Function \n",
    "There are many ways to declare a function in JavaScript. The two most common ways are by using function declaration or by function operator. In the function declaration, the function keywords appear before the function name. Whereas if the function keyword appears anywhere else, that means we are declaring the function by the function operator method. Given below are the six different methods which are used in JavaScript to declare a function."
   ]
  },
  {
   "cell_type": "markdown",
   "metadata": {},
   "source": [
    "| Name               | Explanation | Syntax |\n",
    "|--------------------|-------------|--------|\n",
    "|Function Declaration|All functions declared using this method allow hoisting; means they can be used before declaration.|function function_name(Arg1, Arg2..){}|\n",
    "|Function Expression |It is most suitable to use when you want to assign your function as an object to a variable. It’s often used when you want to use your function as callback function.|Named: var var_name = function function_name(Arg1,Arg2..){};Anonymous:var var_name = function(Arg1, Arg2..){};|\n",
    "|Generator Function Declaration|It is used to declare a Generator Function, a function that uses yeild keyword to return a Generator-Iterator object on which next method can be called later.|function* name(Arg1, Arg2..) {}|\n",
    "|Generator Function Expression|This is much similar to the type we just discussed above. The only difference is that it allows omitting name from the function.|Named: function* function_name(Arg1,Arg2..){} Anonymous:function* (Arg1,Arg2..){}|\n",
    "|Arrow Function|The two reasons why this type of functions were introduced in ES6 are: writer shorter syntax for function expressions and get rid of this value. You can exclude function parentheses if it only takes one parameter. You can also erase the curly brackets if there’s only one statement inside function body.|var var_name = (Arg1, Arg2..) => {};|\n",
    "|Function Constructor|Here, the Function keyword is actually a constructor which creates a new function. The arguments passed to the constructor become arguments of the newly created function and the last parameter is a string which is converted into a function body. This may cause security and engine optimization problems which is why it’s always never recommended to use|var var_name = new Function(Arg1, Arg2..,'FunctionBodyString');|"
   ]
  },
  {
   "cell_type": "code",
   "execution_count": null,
   "metadata": {},
   "outputs": [],
   "source": []
  }
 ],
 "metadata": {
  "kernelspec": {
   "display_name": "Javascript (Node.js)",
   "language": "javascript",
   "name": "javascript"
  },
  "language_info": {
   "file_extension": ".js",
   "mimetype": "application/javascript",
   "name": "javascript",
   "version": "10.19.0"
  }
 },
 "nbformat": 4,
 "nbformat_minor": 4
}
