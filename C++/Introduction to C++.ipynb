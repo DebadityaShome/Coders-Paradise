{
 "cells": [
  {
   "cell_type": "markdown",
   "metadata": {},
   "source": [
    "## Basic input / output in C++ :\n",
    "\n",
    "1. **cout** : Gives output to the standard output stream.\n",
    "2. **cin** : Gives input to the standard input stream.\n",
    "3. **cerr** : Used to write something on standard unbuffered error stream.\n",
    "4. **clog** : Used to write something on standard buffered input stream.\n"
   ]
  },
  {
   "cell_type": "code",
   "execution_count": 10,
   "metadata": {},
   "outputs": [
    {
     "name": "stdout",
     "output_type": "stream",
     "text": [
      "Hello World\n",
      "deepQubit"
     ]
    },
    {
     "data": {
      "text/plain": [
       "0"
      ]
     },
     "execution_count": 10,
     "metadata": {},
     "output_type": "execute_result"
    }
   ],
   "source": [
    "#include <iostream>\n",
    "using namespace std;\n",
    "int main(){\n",
    "    cout << \"Hello World\" << endl << \"deepQubit\";\n",
    "    return 0;\n",
    "}"
   ]
  },
  {
   "cell_type": "markdown",
   "metadata": {},
   "source": [
    "### Difference between endl and \\n :\n",
    "**\\n** just prints a new line whereas **endl** prints a new line and also flushes the buffer."
   ]
  },
  {
   "cell_type": "markdown",
   "metadata": {},
   "source": [
    "    "
   ]
  },
  {
   "cell_type": "markdown",
   "metadata": {},
   "source": [
    "## Data types :\n",
    "* char\n",
    "* int\n",
    "* long int\n",
    "* long long int\n",
    "* unsigned int\n",
    "* unsigned char\n"
   ]
  },
  {
   "cell_type": "code",
   "execution_count": 15,
   "metadata": {},
   "outputs": [
    {
     "name": "stdout",
     "output_type": "stream",
     "text": [
      "Integer size: 4\n",
      "Character size: 1\n",
      "Long integer size: 8\n",
      "Long long integer size: 8\n",
      "Unsigned character size: 1\n",
      "Unsigned integer size: 4\n"
     ]
    }
   ],
   "source": [
    "cout << \"Integer size: \" << sizeof(int) << endl;\n",
    "cout << \"Character size: \" << sizeof(char) << endl;\n",
    "cout << \"Long integer size: \" << sizeof(long int) << endl;\n",
    "cout << \"Long long integer size: \" << sizeof(long long int) << endl;\n",
    "cout << \"Unsigned character size: \" << sizeof(unsigned char) << endl;\n",
    "cout << \"Unsigned integer size: \" << sizeof(unsigned int) << endl;"
   ]
  },
  {
   "cell_type": "markdown",
   "metadata": {},
   "source": [
    "### Special variable declarations:\n",
    "\n",
    "**static** : This is used to keep the variable in memory even outside the scope.\n",
    "\n",
    "**const** : This is used to make the variable value unchangable."
   ]
  },
  {
   "cell_type": "markdown",
   "metadata": {},
   "source": [
    "     "
   ]
  },
  {
   "cell_type": "markdown",
   "metadata": {},
   "source": [
    "### Errors in C++:\n",
    "\n",
    "* Syntax Error\n",
    "* Semantic Error\n",
    "* Linker Error\n",
    "* Runtime Error\n",
    "* Logical Error"
   ]
  },
  {
   "cell_type": "code",
   "execution_count": null,
   "metadata": {},
   "outputs": [],
   "source": []
  }
 ],
 "metadata": {
  "kernelspec": {
   "display_name": "C++14",
   "language": "C++14",
   "name": "xcpp14"
  },
  "language_info": {
   "codemirror_mode": "text/x-c++src",
   "file_extension": ".cpp",
   "mimetype": "text/x-c++src",
   "name": "c++",
   "version": "14"
  }
 },
 "nbformat": 4,
 "nbformat_minor": 4
}
